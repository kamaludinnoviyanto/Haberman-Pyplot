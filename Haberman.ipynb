{
  "nbformat": 4,
  "nbformat_minor": 0,
  "metadata": {
    "colab": {
      "name": "Untitled7.ipynb",
      "provenance": []
    },
    "kernelspec": {
      "name": "python3",
      "display_name": "Python 3"
    },
    "language_info": {
      "name": "python"
    }
  },
  "cells": [
    {
      "cell_type": "code",
      "execution_count": 1,
      "metadata": {
        "colab": {
          "base_uri": "https://localhost:8080/"
        },
        "id": "A1HUtcDfT60i",
        "outputId": "b59a390c-bc03-4670-dcc6-0be5748848b7"
      },
      "outputs": [
        {
          "output_type": "stream",
          "name": "stdout",
          "text": [
            "(306, 4)\n"
          ]
        }
      ],
      "source": [
        "# load the haberman dataset and summarize the shape\n",
        "from pandas import read_csv\n",
        "# define the location of the dataset\n",
        "url = 'https://raw.githubusercontent.com/jbrownlee/Datasets/master/haberman.csv'\n",
        "# load the dataset\n",
        "df = read_csv(url, header=None)\n",
        "# summarize shape\n",
        "print(df.shape)"
      ]
    },
    {
      "cell_type": "code",
      "source": [
        "# define the dataset column names\n",
        "# show summary statistics and plots of the haberman dataset\n",
        "from pandas import read_csv\n",
        "from matplotlib import pyplot\n",
        "# define the location of the dataset\n",
        "url = 'https://raw.githubusercontent.com/jbrownlee/Datasets/master/haberman.csv'\n",
        "# load the dataset\n",
        "df = read_csv(url, header=None)\n",
        "# show summary statistics\n",
        "print(df.describe())\n",
        "# plot histograms\n",
        "df.hist()\n",
        "pyplot.show()"
      ],
      "metadata": {
        "colab": {
          "base_uri": "https://localhost:8080/",
          "height": 437
        },
        "id": "D6RMH4IxUHUq",
        "outputId": "a4f2a8b9-1a75-4596-916a-e47eb5414060"
      },
      "execution_count": 2,
      "outputs": [
        {
          "output_type": "stream",
          "name": "stdout",
          "text": [
            "                0           1           2           3\n",
            "count  306.000000  306.000000  306.000000  306.000000\n",
            "mean    52.457516   62.852941    4.026144    1.264706\n",
            "std     10.803452    3.249405    7.189654    0.441899\n",
            "min     30.000000   58.000000    0.000000    1.000000\n",
            "25%     44.000000   60.000000    0.000000    1.000000\n",
            "50%     52.000000   63.000000    1.000000    1.000000\n",
            "75%     60.750000   65.750000    4.000000    2.000000\n",
            "max     83.000000   69.000000   52.000000    2.000000\n"
          ]
        },
        {
          "output_type": "display_data",
          "data": {
            "text/plain": [
              "<Figure size 432x288 with 4 Axes>"
            ],
            "image/png": "[encoded data removed]"
          },
          "metadata": {
            "needs_background": "light"
          }
        }
      ]
    },
    {
      "cell_type": "code",
      "source": [
        "# summarize the class ratio of the haberman dataset\n",
        "from pandas import read_csv\n",
        "from collections import Counter\n",
        "# define the location of the dataset\n",
        "url = 'https://raw.githubusercontent.com/jbrownlee/Datasets/master/haberman.csv'\n",
        "# define the dataset column names\n",
        "columns = ['age', 'year', 'nodes', 'class']\n",
        "# load the csv file as a data frame\n",
        "dataframe = read_csv(url, header=None, names=columns)\n",
        "# summarize the class distribution\n",
        "target = dataframe['class'].values\n",
        "counter = Counter(target)\n",
        "for k,v in counter.items():\n",
        "\tper = v / len(target) * 100\n",
        "\tprint('Class=%d, Count=%d, Percentage=%.3f%%' % (k, v, per))"
      ],
      "metadata": {
        "colab": {
          "base_uri": "https://localhost:8080/"
        },
        "id": "rkfhVEo6ULgv",
        "outputId": "46ed690a-767f-4ac6-a781-0c1cbad1173b"
      },
      "execution_count": 3,
      "outputs": [
        {
          "output_type": "stream",
          "name": "stdout",
          "text": [
            "Class=1, Count=225, Percentage=73.529%\n",
            "Class=2, Count=81, Percentage=26.471%\n"
          ]
        }
      ]
    }
  ]
}